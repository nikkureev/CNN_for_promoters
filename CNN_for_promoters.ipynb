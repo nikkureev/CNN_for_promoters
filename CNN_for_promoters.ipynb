{
 "cells": [
  {
   "cell_type": "code",
   "execution_count": null,
   "metadata": {},
   "outputs": [],
   "source": []
  },
  {
   "cell_type": "code",
   "execution_count": 554,
   "metadata": {},
   "outputs": [
    {
     "name": "stdout",
     "output_type": "stream",
     "text": [
      "['CATTTCCAAGCACTTATACGGTGAGTAGCTGCCGACGTGGCCTGCCGGCAGTGGCAAGAACGAGGTAAACGTCGCATCAGG']\n"
     ]
    }
   ],
   "source": [
    "neg = np.array([np.random.choice(['A', 'C', 'G', 'T'], num_sample, p=np.array([1,1,1,1])/4.0)\n",
    "                for i in range(seq_len)]).transpose()\n",
    "print([''.join(x) for x in neg[:1]])"
   ]
  },
  {
   "cell_type": "code",
   "execution_count": 455,
   "metadata": {},
   "outputs": [],
   "source": [
    "import numpy as np\n",
    "\n",
    "seq_len = 81 \n",
    "num_sample = 500\n",
    "\n",
    "benchmark_file = \"/home/nkureev/PromoterSigma70Set.txt\"\n",
    "#benchmark_file = \"/home/nkureev/TerminatorSet.txt\"\n",
    "pos_data = []\n",
    "neg_data = []\n",
    "line_type = ''\n",
    "pos_count, neg_count = 0, 0\n",
    "with open(benchmark_file, 'r') as f:\n",
    "    n = 0\n",
    "    for lines in f:\n",
    "        n += 1\n",
    "        if not lines.startswith('#'):\n",
    "            #if 'rho-independent' not in lines:\n",
    "            line = lines.split('\\t')[5].upper()\n",
    "            if 'Weak\\n' in lines:\n",
    "                if pos_count < num_sample:\n",
    "                    pos_data.append(list(line))\n",
    "                    pos_count += 1\n",
    "                if neg_count < num_sample:\n",
    "                    neg_data.append(list(line))\n",
    "                    neg_count += 1\n",
    "            \n",
    "pos = np.array(pos_data)\n",
    "neg = np.array(neg)"
   ]
  },
  {
   "cell_type": "code",
   "execution_count": 960,
   "metadata": {},
   "outputs": [],
   "source": [
    "def fastaParser(infile):\n",
    "    seqs = []\n",
    "    headers = []\n",
    "    with open(infile, 'r') as f:\n",
    "        sequence = \"\"\n",
    "        header = None\n",
    "        for line in f:\n",
    "            if line.startswith('>'):\n",
    "                headers.append(line[1:-1])\n",
    "                if header:\n",
    "                    seqs.append(sequence)\n",
    "                sequence = \"\"\n",
    "                header = line[1:]\n",
    "            else:\n",
    "                sequence += line.rstrip()\n",
    "        seqs.append(sequence)\n",
    "    return headers, seqs\n",
    "\n",
    "\n",
    "benchmark_pos = \"/home/nkureev/cov_out.fasta\"\n",
    "benchmark_neg = \"/home/nkureev/div_out.fasta\"\n",
    "h_pos, s_pos = fastaParser(benchmark_pos)\n",
    "h_neg, s_neg = fastaParser(benchmark_neg)\n",
    "pos_data, neg = [], []\n",
    "for s in s_pos:\n",
    "    pos_data.append(list(s))\n",
    "\n",
    "for s in s_neg:\n",
    "    neg.append(list(s))\n",
    "    "
   ]
  },
  {
   "cell_type": "code",
   "execution_count": 943,
   "metadata": {},
   "outputs": [
    {
     "name": "stdout",
     "output_type": "stream",
     "text": [
      "30\n"
     ]
    }
   ],
   "source": [
    "import numpy as np\n",
    "\n",
    "seq_len = 81 \n",
    "num_sample = 500\n",
    "\n",
    "# benchmark_file = \"/home/nkureev/PromoterSigma70Set.txt\"\n",
    "# benchmark_file = \"/home/nkureev/TerminatorSet.txt\"\n",
    "\n",
    "pos_data = []\n",
    "pos_count = 0\n",
    "with open(benchmark_file, 'r') as f:\n",
    "    for lines in f:    \n",
    "        if pos_count < num_sample:\n",
    "            if not lines.startswith('#'):\n",
    "                line = lines.split('\\t')[5].upper()\n",
    "#                 if lines.split('\\t')[7] == 'Strong\\n' and  lines.split('\\t')[4] == 'Sigma70':\n",
    "                if '[RE||RNA-seq evidence]' in lines:\n",
    "                    if line != '':\n",
    "                        pos_data.append(list(line))\n",
    "                        pos_count += 1\n",
    "                            \n",
    "print(pos_count)"
   ]
  },
  {
   "cell_type": "code",
   "execution_count": 961,
   "metadata": {},
   "outputs": [],
   "source": [
    "pos = np.array(pos_data)\n",
    "neg = np.array(neg)"
   ]
  },
  {
   "cell_type": "code",
   "execution_count": 962,
   "metadata": {},
   "outputs": [
    {
     "data": {
      "text/plain": [
       "array([['T', 'T', 'A', ..., 'T', 'T', 'A'],\n",
       "       ['C', 'T', 'G', ..., 'C', 'C', 'C'],\n",
       "       ['A', 'T', 'A', ..., 'A', 'G', 'C'],\n",
       "       ...,\n",
       "       ['T', 'T', 'A', ..., 'C', 'C', 'G'],\n",
       "       ['G', 'T', 'A', ..., 'C', 'A', 'A'],\n",
       "       ['C', 'T', 'G', ..., 'T', 'T', 'C']], dtype='<U1')"
      ]
     },
     "execution_count": 962,
     "metadata": {},
     "output_type": "execute_result"
    }
   ],
   "source": [
    "# print(''.join(pos[0]))\n",
    "# pos_data[0]\n",
    "# print(pos.shape)\n",
    "pos"
   ]
  },
  {
   "cell_type": "code",
   "execution_count": 963,
   "metadata": {},
   "outputs": [
    {
     "data": {
      "text/plain": [
       "array([[[0., 0., 0., 0.],\n",
       "        [0., 0., 0., 0.],\n",
       "        [0., 0., 0., 0.],\n",
       "        ...,\n",
       "        [0., 0., 0., 0.],\n",
       "        [0., 0., 0., 0.],\n",
       "        [0., 0., 0., 0.]],\n",
       "\n",
       "       [[0., 0., 0., 0.],\n",
       "        [0., 0., 0., 0.],\n",
       "        [0., 0., 0., 0.],\n",
       "        ...,\n",
       "        [0., 0., 0., 0.],\n",
       "        [0., 0., 0., 0.],\n",
       "        [0., 0., 0., 0.]],\n",
       "\n",
       "       [[0., 0., 0., 0.],\n",
       "        [0., 0., 0., 0.],\n",
       "        [0., 0., 0., 0.],\n",
       "        ...,\n",
       "        [0., 0., 0., 0.],\n",
       "        [0., 0., 0., 0.],\n",
       "        [0., 0., 0., 0.]],\n",
       "\n",
       "       ...,\n",
       "\n",
       "       [[0., 0., 0., 0.],\n",
       "        [0., 0., 0., 0.],\n",
       "        [0., 0., 0., 0.],\n",
       "        ...,\n",
       "        [0., 0., 0., 0.],\n",
       "        [0., 0., 0., 0.],\n",
       "        [0., 0., 0., 0.]],\n",
       "\n",
       "       [[0., 0., 0., 0.],\n",
       "        [0., 0., 0., 0.],\n",
       "        [0., 0., 0., 0.],\n",
       "        ...,\n",
       "        [0., 0., 0., 0.],\n",
       "        [0., 0., 0., 0.],\n",
       "        [0., 0., 0., 0.]],\n",
       "\n",
       "       [[0., 0., 0., 0.],\n",
       "        [0., 0., 0., 0.],\n",
       "        [0., 0., 0., 0.],\n",
       "        ...,\n",
       "        [0., 0., 0., 0.],\n",
       "        [0., 0., 0., 0.],\n",
       "        [0., 0., 0., 0.]]])"
      ]
     },
     "execution_count": 963,
     "metadata": {},
     "output_type": "execute_result"
    }
   ],
   "source": [
    "pos_tensor = np.zeros(list(pos.shape) + [4])\n",
    "neg_tensor = np.zeros(list(neg.shape) + [4])\n",
    "pos_tensor"
   ]
  },
  {
   "cell_type": "code",
   "execution_count": 964,
   "metadata": {},
   "outputs": [
    {
     "name": "stdout",
     "output_type": "stream",
     "text": [
      "(100, 81, 4)\n",
      "Positive sample matrix shape: (100, 81)\n",
      "Positive sample tensor shape: (100, 81, 4)\n"
     ]
    }
   ],
   "source": [
    "base_dict = {'A': 0, 'C': 1, 'G': 2, 'T': 3}\n",
    "\n",
    "for row in range(num_sample):\n",
    "    for col in range(seq_len):\n",
    "        pass\n",
    "#         pos_tensor[row,col,base_dict[pos[row,col]]] = 1\n",
    "#         neg_tensor[row,col,base_dict[neg[row,col]]] = 1\n",
    "print(pos_tensor.shape)\n",
    "print('Positive sample matrix shape: {}'.format(pos.shape))\n",
    "print('Positive sample tensor shape: {}'.format(pos_tensor.shape))"
   ]
  },
  {
   "cell_type": "code",
   "execution_count": 965,
   "metadata": {},
   "outputs": [
    {
     "name": "stdout",
     "output_type": "stream",
     "text": [
      "Training set shape: (200, 81, 4)\n",
      "Training set label shape: (1000,)\n",
      "\n",
      "One-hot encoding looks like:\n",
      " [[0. 0. 0. 0.]\n",
      " [0. 0. 0. 0.]\n",
      " [0. 0. 0. 0.]\n",
      " [0. 0. 0. 0.]\n",
      " [0. 0. 0. 0.]\n",
      " [0. 0. 0. 0.]\n",
      " [0. 0. 0. 0.]\n",
      " [0. 0. 0. 0.]\n",
      " [0. 0. 0. 0.]\n",
      " [0. 0. 0. 0.]]\n"
     ]
    }
   ],
   "source": [
    "X = np.vstack((pos_tensor, neg_tensor))\n",
    "y = np.concatenate((np.ones(num_sample), np.zeros(num_sample)))\n",
    "\n",
    "print('Training set shape: {}'.format(X.shape))\n",
    "print('Training set label shape: {}'.format(y.shape))\n",
    "print('\\nOne-hot encoding looks like:\\n {}'.format(X[0,0:10,:]))"
   ]
  },
  {
   "cell_type": "code",
   "execution_count": 970,
   "metadata": {},
   "outputs": [
    {
     "name": "stdout",
     "output_type": "stream",
     "text": [
      "Shape of the output of first layer: (32, 40, 1)\n"
     ]
    },
    {
     "data": {
      "image/png": "[encoded data removed]",
      "text/plain": [
       "<Figure size 432x288 with 2 Axes>"
      ]
     },
     "metadata": {
      "needs_background": "light"
     },
     "output_type": "display_data"
    }
   ],
   "source": [
    "from keras.models import Sequential, load_model, save_model\n",
    "from keras.layers import Conv1D, Dense, Flatten, Dropout\n",
    "from keras.activations import relu\n",
    "from keras.layers.pooling import MaxPooling1D\n",
    "from keras.optimizers import SGD\n",
    "from keras.optimizers import Adam\n",
    "from keras import backend as K\n",
    "import keras\n",
    "import seaborn as sns\n",
    "import pandas as pd\n",
    "import os\n",
    "\n",
    "def f1(y_true, y_pred):\n",
    "    def recall(y_true, y_pred):\n",
    "        \"\"\"Recall metric.\n",
    "\n",
    "        Only computes a batch-wise average of recall.\n",
    "\n",
    "        Computes the recall, a metric for multi-label classification of\n",
    "        how many relevant items are selected.\n",
    "        \"\"\"\n",
    "        true_positives = K.sum(K.round(K.clip(y_true * y_pred, 0, 1)))\n",
    "        possible_positives = K.sum(K.round(K.clip(y_true, 0, 1)))\n",
    "        recall = true_positives / (possible_positives + K.epsilon())\n",
    "        return recall\n",
    "\n",
    "    def precision(y_true, y_pred):\n",
    "        \"\"\"Precision metric.\n",
    "\n",
    "        Only computes a batch-wise average of precision.\n",
    "\n",
    "        Computes the precision, a metric for multi-label classification of\n",
    "        how many selected items are relevant.\n",
    "        \"\"\"\n",
    "        true_positives = K.sum(K.round(K.clip(y_true * y_pred, 0, 1)))\n",
    "        predicted_positives = K.sum(K.round(K.clip(y_pred, 0, 1)))\n",
    "        precision = true_positives / (predicted_positives + K.epsilon())\n",
    "        return precision\n",
    "    precision = precision(y_true, y_pred)\n",
    "    recall = recall(y_true, y_pred)\n",
    "    return 2*((precision*recall)/(precision+recall+K.epsilon()))\n",
    "\n",
    "model = Sequential()\n",
    "# model.add(Conv1D(200, 21, padding='same', input_shape=(seq_len, 4), activation='relu'))\n",
    "model.add(Conv1D(1, 40, padding='same', input_shape=(seq_len, 4), activation='relu'))\n",
    "model.add(MaxPooling1D())\n",
    "# model.add(BatchNormalization())\n",
    "\n",
    "weights_dict = {}\n",
    "for i, v in enumerate(model.get_weights()[0]):\n",
    "    weights_dict[i] = [float(i) for i in v]\n",
    "weights_df_before = pd.DataFrame.from_dict(weights_dict)\n",
    "sns.heatmap(weights_df_before, cmap=\"YlGnBu\", yticklabels=['A','C','G','T'])\n",
    "\n",
    "model_weights = []\n",
    "model_weights.append(model.get_weights()[0])\n",
    "\n",
    "print('Shape of the output of first layer: {}'.format(model.predict_on_batch(pos_tensor[0:32,:,:]).shape))"
   ]
  },
  {
   "cell_type": "code",
   "execution_count": 971,
   "metadata": {},
   "outputs": [
    {
     "name": "stdout",
     "output_type": "stream",
     "text": [
      "5/5 [==============================] - 0s 95ms/step - loss: 0.6832 - accuracy: 0.8000 - f1: 0.8000 - val_loss: 0.6685 - val_accuracy: 1.0000 - val_f1: 1.0000\n",
      "5/5 [==============================] - 1s 104ms/step - loss: 0.6588 - accuracy: 1.0000 - f1: 1.0000 - val_loss: 0.6445 - val_accuracy: 1.0000 - val_f1: 1.0000\n",
      "5/5 [==============================] - 0s 97ms/step - loss: 0.6351 - accuracy: 1.0000 - f1: 1.0000 - val_loss: 0.6212 - val_accuracy: 1.0000 - val_f1: 1.0000\n",
      "5/5 [==============================] - 0s 84ms/step - loss: 0.6121 - accuracy: 1.0000 - f1: 1.0000 - val_loss: 0.5987 - val_accuracy: 1.0000 - val_f1: 1.0000\n",
      "5/5 [==============================] - 0s 82ms/step - loss: 0.5900 - accuracy: 1.0000 - f1: 1.0000 - val_loss: 0.5770 - val_accuracy: 1.0000 - val_f1: 1.0000\n",
      "5/5 [==============================] - 0s 86ms/step - loss: 0.5686 - accuracy: 1.0000 - f1: 1.0000 - val_loss: 0.5561 - val_accuracy: 1.0000 - val_f1: 1.0000\n"
     ]
    }
   ],
   "source": [
    "model.add(Dropout(0.7))\n",
    "model.add(Flatten())\n",
    "# model.add(Dense(128, input_shape=(200,), activation='relu'))\n",
    "# model.add(Dense(1, input_shape=(128,), activation='sigmoid'))\n",
    "model.add(Dense(1, activation='sigmoid'))\n",
    "\n",
    "# sgd = SGD(lr=0.01, decay=1e-6, momentum=0.9, nesterov=True)\n",
    "adam = Adam(lr=0.01)\n",
    "model.compile(optimizer=adam,\n",
    "              loss='binary_crossentropy',\n",
    "              metrics=['accuracy', f1])\n",
    "\n",
    "hist = model.fit(X, y, validation_split=0.2, epochs=1)\n",
    "model_weights.append(model.get_weights()[0])\n",
    "dependencies = {'f1': f1}\n",
    "model.save('./partly_trained.h5')\n",
    "losses = [hist.history['loss']]\n",
    "for i in range(5):\n",
    "    model = load_model('./partly_trained.h5', custom_objects=dependencies)\n",
    "    hist = model.fit(X, y, validation_split=0.2, epochs=1)\n",
    "    losses.append(hist.history['loss'])\n",
    "    model_weights.append(model.get_weights()[0])\n",
    "    model.save('./partly_trained.h5')"
   ]
  },
  {
   "cell_type": "code",
   "execution_count": 972,
   "metadata": {},
   "outputs": [
    {
     "data": {
      "text/plain": [
       "'TCGTTGGTTATTGAGTATAGATATTGTAATTAAACCCGAC'"
      ]
     },
     "execution_count": 972,
     "metadata": {},
     "output_type": "execute_result"
    }
   ],
   "source": [
    "convlayer = model.layers[0]\n",
    "weights = convlayer.get_weights()[0].squeeze()\n",
    "num2seq = ['A','C','G','T']\n",
    "\n",
    "''.join([num2seq[np.argmax(weights[i,:])] for i in range(weights.shape[0])])"
   ]
  },
  {
   "cell_type": "code",
   "execution_count": 973,
   "metadata": {},
   "outputs": [
    {
     "data": {
      "text/plain": [
       "<AxesSubplot:>"
      ]
     },
     "execution_count": 973,
     "metadata": {},
     "output_type": "execute_result"
    },
    {
     "data": {
      "image/png": "[encoded data removed]",
      "text/plain": [
       "<Figure size 432x288 with 2 Axes>"
      ]
     },
     "metadata": {
      "needs_background": "light"
     },
     "output_type": "display_data"
    }
   ],
   "source": [
    "weights_dict = {}\n",
    "for i, v in enumerate(model.get_weights()[0]):\n",
    "    weights_dict[i] = [float(i) for i in v]\n",
    "weights_df_after = pd.DataFrame.from_dict(weights_dict)\n",
    "sns.heatmap(weights_df_after, cmap=\"YlGnBu\", yticklabels=['A','C','G','T'])"
   ]
  },
  {
   "cell_type": "code",
   "execution_count": 161,
   "metadata": {},
   "outputs": [],
   "source": [
    "model_weights = model.get_weights()[0]"
   ]
  },
  {
   "cell_type": "code",
   "execution_count": 150,
   "metadata": {},
   "outputs": [
    {
     "name": "stderr",
     "output_type": "stream",
     "text": [
      "<ipython-input-150-f572a585fe30>:8: MatplotlibDeprecationWarning: Adding an axes using the same arguments as a previous axes currently reuses the earlier instance.  In a future version, a new instance will always be created and returned.  Meanwhile, this warning can be suppressed, and the future behavior ensured, by passing a unique label to each axes instance.\n",
      "  ax = plt.axes()\n"
     ]
    },
    {
     "data": {
      "text/plain": [
       "Text(0.5, 1.0, 'Stage 7')"
      ]
     },
     "execution_count": 150,
     "metadata": {},
     "output_type": "execute_result"
    },
    {
     "data": {
      "image/png": "[encoded data removed]",
      "text/plain": [
       "<Figure size 432x288 with 2 Axes>"
      ]
     },
     "metadata": {
      "needs_background": "light"
     },
     "output_type": "display_data"
    }
   ],
   "source": [
    "import matplotlib.pyplot as plt\n",
    "\n",
    "weights_dict = {}\n",
    "for i, v in enumerate(model_weights[70]):\n",
    "    weights_dict[i] = [float(i) for i in v]\n",
    "weights_df = pd.DataFrame.from_dict(weights_dict)\n",
    "sns.heatmap(weights_df, cmap=\"YlGnBu\", yticklabels=['A','C','G','T'])\n",
    "ax = plt.axes()\n",
    "ax.set_title('Stage 7')"
   ]
  },
  {
   "cell_type": "code",
   "execution_count": 160,
   "metadata": {},
   "outputs": [
    {
     "name": "stdout",
     "output_type": "stream",
     "text": [
      "4641652\n"
     ]
    }
   ],
   "source": [
    "file = '/home/nkureev/NC_000913.fna'\n",
    "\n",
    "genome_line = ''\n",
    "with open(file, 'r') as f:\n",
    "    for lines in f:\n",
    "        if not lines.startswith('>'):\n",
    "            genome_line += lines[0:-1]\n",
    "            \n",
    "print(len(genome_line))"
   ]
  },
  {
   "cell_type": "code",
   "execution_count": 177,
   "metadata": {},
   "outputs": [],
   "source": [
    "genome = np.array(list(genome_line))\n",
    "genome_tensor = np.zeros(list(genome.shape) + [4])\n",
    "\n",
    "base_dict = {'A': 0, 'C': 1, 'G': 2, 'T': 3}\n",
    "\n",
    "for col in range(len(genome_line)):\n",
    "    genome_tensor[col,base_dict[genome[col]]] = 1"
   ]
  },
  {
   "cell_type": "code",
   "execution_count": 178,
   "metadata": {},
   "outputs": [
    {
     "data": {
      "text/plain": [
       "array([[1., 0., 0., 0.],\n",
       "       [0., 0., 1., 0.],\n",
       "       [0., 1., 0., 0.],\n",
       "       ...,\n",
       "       [0., 0., 0., 1.],\n",
       "       [0., 0., 0., 1.],\n",
       "       [0., 1., 0., 0.]])"
      ]
     },
     "execution_count": 178,
     "metadata": {},
     "output_type": "execute_result"
    }
   ],
   "source": [
    "genome_tensor"
   ]
  },
  {
   "cell_type": "code",
   "execution_count": 207,
   "metadata": {},
   "outputs": [],
   "source": [
    "proba_list = []\n",
    "for i in range(1000):\n",
    "    test_tensor = genome_tensor[i:i+40]\n",
    "    matches = []\n",
    "    for j in test_tensor:\n",
    "        n = 0\n",
    "        if j[n] == 1:\n",
    "            matches.append(n)\n",
    "        else:\n",
    "            n += 1\n",
    "    proba = 0\n",
    "    for v, g in zip(model_weights, matches):\n",
    "        proba += v[g]\n",
    "    proba_list.append(proba)"
   ]
  },
  {
   "cell_type": "code",
   "execution_count": 202,
   "metadata": {},
   "outputs": [
    {
     "data": {
      "text/plain": [
       "[array([0.9845799], dtype=float32),\n",
       " array([0.90295994], dtype=float32),\n",
       " array([0.90295994], dtype=float32),\n",
       " array([0.90295994], dtype=float32),\n",
       " array([0.9845799], dtype=float32),\n",
       " array([0.9845799], dtype=float32),\n",
       " array([0.9845799], dtype=float32),\n",
       " array([1.1072812], dtype=float32),\n",
       " array([1.4126749], dtype=float32),\n",
       " array([1.4126749], dtype=float32),\n",
       " array([1.6507344], dtype=float32),\n",
       " array([2.094236], dtype=float32),\n",
       " array([2.5207832], dtype=float32),\n",
       " array([2.6962724], dtype=float32),\n",
       " array([2.6962724], dtype=float32),\n",
       " array([2.6962724], dtype=float32),\n",
       " array([2.6962724], dtype=float32),\n",
       " array([2.6962724], dtype=float32),\n",
       " array([2.6962724], dtype=float32),\n",
       " array([2.6962724], dtype=float32)]"
      ]
     },
     "execution_count": 202,
     "metadata": {},
     "output_type": "execute_result"
    }
   ],
   "source": [
    "proba_list"
   ]
  },
  {
   "cell_type": "code",
   "execution_count": 208,
   "metadata": {},
   "outputs": [
    {
     "data": {
      "image/png": "[encoded data removed]",
      "text/plain": [
       "<Figure size 432x288 with 1 Axes>"
      ]
     },
     "metadata": {
      "needs_background": "light"
     },
     "output_type": "display_data"
    }
   ],
   "source": [
    "plt.plot(proba_list)\n",
    "plt.show()"
   ]
  },
  {
   "cell_type": "code",
   "execution_count": 835,
   "metadata": {},
   "outputs": [],
   "source": [
    "def manacher(s, l, r):\n",
    "    while l >= 0 and r < len(s) and s[l] == s[r]:\n",
    "        l -= 1\n",
    "        r += 1\n",
    "    l += 1\n",
    "    r -= 1\n",
    "    return (r - l + 1, l, r)\n",
    "\n",
    "\n",
    "def palindrome(string):\n",
    "    longest = 0\n",
    "    left = 0\n",
    "    right = -1\n",
    "    for i in range(len(string)):\n",
    "        length, l, r = manacher(string, i, i + 1)\n",
    "        if length > longest:\n",
    "            left = l\n",
    "            right = r\n",
    "    return string[left: right + 1]"
   ]
  },
  {
   "cell_type": "code",
   "execution_count": 838,
   "metadata": {},
   "outputs": [
    {
     "data": {
      "text/plain": [
       "'ATGCTTCGTA'"
      ]
     },
     "execution_count": 838,
     "metadata": {},
     "output_type": "execute_result"
    }
   ],
   "source": [
    "line = 'ATGCTTCGTA'\n",
    "palindrome(line)\n",
    "manacher(line, )"
   ]
  },
  {
   "cell_type": "code",
   "execution_count": 909,
   "metadata": {},
   "outputs": [],
   "source": [
    "def manacher(s, l, r):\n",
    "    while l >= 0 and r < len(s) and s[l] == s[r]:\n",
    "        l -= 1\n",
    "        r += 1\n",
    "    l += 1\n",
    "    r -= 1\n",
    "    return (r - l + 1, l, r)\n",
    "\n",
    "\n",
    "def palindrome(string, k):\n",
    "    # k - количество нуклеотидов между плечами палиндрома \n",
    "    core_len = k + 1\n",
    "    longest = 0\n",
    "    left = 0\n",
    "    right = -1\n",
    "    for i in range(len(string)):\n",
    "        sub_string = string[0 : i + 1] + string[i + core_len : len(string)]\n",
    "        length, l, r = manacher(sub_string, i, i + 1)\n",
    "        if length > longest:\n",
    "            left = l\n",
    "            right = r + core_len\n",
    "            longest = length\n",
    "    return (string[left: right], longest, left, right)"
   ]
  },
  {
   "cell_type": "code",
   "execution_count": 916,
   "metadata": {},
   "outputs": [
    {
     "data": {
      "text/plain": [
       "('AGGTTCCTTGGA', 12, 13, 25)"
      ]
     },
     "execution_count": 916,
     "metadata": {},
     "output_type": "execute_result"
    }
   ],
   "source": [
    "line = 'GATGCTCGTATGGAGGTTCCTTGGA'\n",
    "palindrome(line, 0)\n",
    "# string = line\n",
    "# core_len = 2\n",
    "# for i in range(len(string)):\n",
    "#     sub_string = string[0 : i + 1] + string[i + core_len : len(string)]\n",
    "#     length, l, r = manacher(sub_string, i, i + 1)\n",
    "#     print(sub_string)\n",
    "#     print(i - 1, i)\n",
    "#     print(length, l, r)"
   ]
  },
  {
   "cell_type": "code",
   "execution_count": 915,
   "metadata": {},
   "outputs": [
    {
     "data": {
      "text/plain": [
       "(0, 4, 3)"
      ]
     },
     "execution_count": 915,
     "metadata": {},
     "output_type": "execute_result"
    }
   ],
   "source": [
    "line = 'ATGCCGTA'\n",
    "manacher(line, 3, 4)"
   ]
  },
  {
   "cell_type": "code",
   "execution_count": 793,
   "metadata": {},
   "outputs": [],
   "source": [
    "def longestPalindrome(s):\n",
    "        # Transform S into T.\n",
    "        # For example, S = \"abba\", T = \"^#a#b#b#a#$\".\n",
    "        # ^ and $ signs are sentinels appended to each end to avoid bounds checking\n",
    "        T = '#'.join('^{}$'.format(s))\n",
    "        n = len(T)\n",
    "        P = [0] * n\n",
    "        C = R = 0\n",
    "        for i in range (1, n-1):\n",
    "            P[i] = (R > i) and min(R - i, P[2*C - i]) # equals to i' = C - (i-C)\n",
    "            # Attempt to expand palindrome centered at i\n",
    "            while T[i + 1 + P[i]] == T[i - 1 - P[i]]:\n",
    "                P[i] += 1\n",
    "    \n",
    "            # If palindrome centered at i expand past R,\n",
    "            # adjust center based on expanded palindrome.\n",
    "            if i + P[i] > R:\n",
    "                C, R = i, i + P[i]\n",
    "    \n",
    "        # Find the maximum element in P.\n",
    "        maxLen, centerIndex = max((n, i) for i, n in enumerate(P))\n",
    "        return s[(centerIndex  - maxLen)//2: (centerIndex  + maxLen)//2]"
   ]
  },
  {
   "cell_type": "code",
   "execution_count": 801,
   "metadata": {},
   "outputs": [
    {
     "data": {
      "text/plain": [
       "'A'"
      ]
     },
     "execution_count": 801,
     "metadata": {},
     "output_type": "execute_result"
    }
   ],
   "source": [
    "line = 'ATGCRGTA'\n",
    "longestPalindrome(line)"
   ]
  }
 ],
 "metadata": {
  "kernelspec": {
   "display_name": "Python 3",
   "language": "python",
   "name": "python3"
  },
  "language_info": {
   "codemirror_mode": {
    "name": "ipython",
    "version": 3
   },
   "file_extension": ".py",
   "mimetype": "text/x-python",
   "name": "python",
   "nbconvert_exporter": "python",
   "pygments_lexer": "ipython3",
   "version": "3.8.3"
  }
 },
 "nbformat": 4,
 "nbformat_minor": 4
}
